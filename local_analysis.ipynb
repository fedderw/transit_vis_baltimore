{
 "cells": [
  {
   "cell_type": "markdown",
   "metadata": {},
   "source": [
    "# Visualization/Analysis of Local GTFS-RT"
   ]
  },
  {
   "cell_type": "code",
   "execution_count": 1,
   "metadata": {},
   "outputs": [],
   "source": [
    "import os\n",
    "\n",
    "import matplotlib.pyplot as plt\n",
    "import numpy as np\n",
    "import pandas as pd\n",
    "import seaborn as sns"
   ]
  },
  {
   "cell_type": "markdown",
   "metadata": {},
   "source": [
    "# Process the Local Summarize_RDS Data"
   ]
  },
  {
   "cell_type": "code",
   "execution_count": 3,
   "metadata": {},
   "outputs": [
    {
     "data": {
      "text/html": [
       "<div>\n",
       "<style scoped>\n",
       "    .dataframe tbody tr th:only-of-type {\n",
       "        vertical-align: middle;\n",
       "    }\n",
       "\n",
       "    .dataframe tbody tr th {\n",
       "        vertical-align: top;\n",
       "    }\n",
       "\n",
       "    .dataframe thead th {\n",
       "        text-align: right;\n",
       "    }\n",
       "</style>\n",
       "<table border=\"1\" class=\"dataframe\">\n",
       "  <thead>\n",
       "    <tr style=\"text-align: right;\">\n",
       "      <th></th>\n",
       "      <th>Unnamed: 0</th>\n",
       "      <th>tripid</th>\n",
       "      <th>vehicleid</th>\n",
       "      <th>lat</th>\n",
       "      <th>lon</th>\n",
       "      <th>orientation</th>\n",
       "      <th>scheduledeviation</th>\n",
       "      <th>prev_deviation</th>\n",
       "      <th>totaltripdistance</th>\n",
       "      <th>tripdistance</th>\n",
       "      <th>...</th>\n",
       "      <th>avg_speed_m_s</th>\n",
       "      <th>deviation_change_s</th>\n",
       "      <th>at_stop</th>\n",
       "      <th>route_id</th>\n",
       "      <th>trip_short_name</th>\n",
       "      <th>route_short_name</th>\n",
       "      <th>vis_id</th>\n",
       "      <th>length</th>\n",
       "      <th>lat_seg</th>\n",
       "      <th>lon_seg</th>\n",
       "    </tr>\n",
       "  </thead>\n",
       "  <tbody>\n",
       "    <tr>\n",
       "      <th>0</th>\n",
       "      <td>0</td>\n",
       "      <td>46551167.0</td>\n",
       "      <td>8192</td>\n",
       "      <td>47.652122</td>\n",
       "      <td>-122.310783</td>\n",
       "      <td>357</td>\n",
       "      <td>-20</td>\n",
       "      <td>20.0</td>\n",
       "      <td>22754.611818</td>\n",
       "      <td>351.210308</td>\n",
       "      <td>...</td>\n",
       "      <td>7.0</td>\n",
       "      <td>-40.0</td>\n",
       "      <td>False</td>\n",
       "      <td>100146</td>\n",
       "      <td>LOCAL</td>\n",
       "      <td>255</td>\n",
       "      <td>2558</td>\n",
       "      <td>7892.0</td>\n",
       "      <td>-122.22789</td>\n",
       "      <td>47.635799</td>\n",
       "    </tr>\n",
       "    <tr>\n",
       "      <th>1</th>\n",
       "      <td>1</td>\n",
       "      <td>46551167.0</td>\n",
       "      <td>8192</td>\n",
       "      <td>47.650871</td>\n",
       "      <td>-122.304787</td>\n",
       "      <td>23</td>\n",
       "      <td>-51</td>\n",
       "      <td>-20.0</td>\n",
       "      <td>22754.611818</td>\n",
       "      <td>515.080829</td>\n",
       "      <td>...</td>\n",
       "      <td>15.0</td>\n",
       "      <td>-31.0</td>\n",
       "      <td>False</td>\n",
       "      <td>100146</td>\n",
       "      <td>LOCAL</td>\n",
       "      <td>255</td>\n",
       "      <td>2558</td>\n",
       "      <td>7892.0</td>\n",
       "      <td>-122.22789</td>\n",
       "      <td>47.635799</td>\n",
       "    </tr>\n",
       "    <tr>\n",
       "      <th>2</th>\n",
       "      <td>2</td>\n",
       "      <td>46551167.0</td>\n",
       "      <td>8192</td>\n",
       "      <td>47.650089</td>\n",
       "      <td>-122.304375</td>\n",
       "      <td>245</td>\n",
       "      <td>-68</td>\n",
       "      <td>-51.0</td>\n",
       "      <td>22754.611818</td>\n",
       "      <td>702.361424</td>\n",
       "      <td>...</td>\n",
       "      <td>6.0</td>\n",
       "      <td>-17.0</td>\n",
       "      <td>False</td>\n",
       "      <td>100146</td>\n",
       "      <td>LOCAL</td>\n",
       "      <td>255</td>\n",
       "      <td>2558</td>\n",
       "      <td>7892.0</td>\n",
       "      <td>-122.22789</td>\n",
       "      <td>47.635799</td>\n",
       "    </tr>\n",
       "    <tr>\n",
       "      <th>3</th>\n",
       "      <td>3</td>\n",
       "      <td>46551167.0</td>\n",
       "      <td>8192</td>\n",
       "      <td>47.650043</td>\n",
       "      <td>-122.304390</td>\n",
       "      <td>250</td>\n",
       "      <td>7</td>\n",
       "      <td>7.0</td>\n",
       "      <td>22754.611818</td>\n",
       "      <td>719.425214</td>\n",
       "      <td>...</td>\n",
       "      <td>5.0</td>\n",
       "      <td>0.0</td>\n",
       "      <td>True</td>\n",
       "      <td>100146</td>\n",
       "      <td>LOCAL</td>\n",
       "      <td>255</td>\n",
       "      <td>2558</td>\n",
       "      <td>7892.0</td>\n",
       "      <td>-122.22789</td>\n",
       "      <td>47.635799</td>\n",
       "    </tr>\n",
       "    <tr>\n",
       "      <th>4</th>\n",
       "      <td>4</td>\n",
       "      <td>46551167.0</td>\n",
       "      <td>8192</td>\n",
       "      <td>47.649364</td>\n",
       "      <td>-122.304565</td>\n",
       "      <td>266</td>\n",
       "      <td>33</td>\n",
       "      <td>7.0</td>\n",
       "      <td>22754.611818</td>\n",
       "      <td>787.680375</td>\n",
       "      <td>...</td>\n",
       "      <td>2.0</td>\n",
       "      <td>26.0</td>\n",
       "      <td>False</td>\n",
       "      <td>100146</td>\n",
       "      <td>LOCAL</td>\n",
       "      <td>255</td>\n",
       "      <td>2558</td>\n",
       "      <td>7892.0</td>\n",
       "      <td>-122.22789</td>\n",
       "      <td>47.635799</td>\n",
       "    </tr>\n",
       "  </tbody>\n",
       "</table>\n",
       "<p>5 rows × 28 columns</p>\n",
       "</div>"
      ],
      "text/plain": [
       "   Unnamed: 0      tripid  vehicleid        lat         lon  orientation  \\\n",
       "0           0  46551167.0       8192  47.652122 -122.310783          357   \n",
       "1           1  46551167.0       8192  47.650871 -122.304787           23   \n",
       "2           2  46551167.0       8192  47.650089 -122.304375          245   \n",
       "3           3  46551167.0       8192  47.650043 -122.304390          250   \n",
       "4           4  46551167.0       8192  47.649364 -122.304565          266   \n",
       "\n",
       "   scheduledeviation  prev_deviation  totaltripdistance  tripdistance  ...  \\\n",
       "0                -20            20.0       22754.611818    351.210308  ...   \n",
       "1                -51           -20.0       22754.611818    515.080829  ...   \n",
       "2                -68           -51.0       22754.611818    702.361424  ...   \n",
       "3                  7             7.0       22754.611818    719.425214  ...   \n",
       "4                 33             7.0       22754.611818    787.680375  ...   \n",
       "\n",
       "   avg_speed_m_s  deviation_change_s  at_stop  route_id  trip_short_name  \\\n",
       "0            7.0               -40.0    False    100146            LOCAL   \n",
       "1           15.0               -31.0    False    100146            LOCAL   \n",
       "2            6.0               -17.0    False    100146            LOCAL   \n",
       "3            5.0                 0.0     True    100146            LOCAL   \n",
       "4            2.0                26.0    False    100146            LOCAL   \n",
       "\n",
       "   route_short_name  vis_id  length    lat_seg    lon_seg  \n",
       "0               255    2558  7892.0 -122.22789  47.635799  \n",
       "1               255    2558  7892.0 -122.22789  47.635799  \n",
       "2               255    2558  7892.0 -122.22789  47.635799  \n",
       "3               255    2558  7892.0 -122.22789  47.635799  \n",
       "4               255    2558  7892.0 -122.22789  47.635799  \n",
       "\n",
       "[5 rows x 28 columns]"
      ]
     },
     "execution_count": 3,
     "metadata": {},
     "output_type": "execute_result"
    }
   ],
   "source": [
    "# Location for the local data\n",
    "path = './transit_vis/data/to_upload'\n",
    "filenames = os.listdir(path)\n",
    "\n",
    "# Join all the data which is saved in different csv for each day\n",
    "# all_data = pd.DataFrame()\n",
    "# for filename in filenames:\n",
    "#     daily_data = pd.read_csv(f\"{path}/{filename}\", dtype={'trip_short_name': str, 'route_short_name': str})\n",
    "#     all_data = all_data.append(daily_data)\n",
    "# all_data.to_csv(f\"{path}/all_data.csv\")\n",
    "\n",
    "# If already processed, load the data here and comment out above\n",
    "all_data = pd.read_csv(f\"{path}/all_data.csv\", dtype={'trip_short_name': str, 'route_short_name': str})\n",
    "all_data.head()"
   ]
  },
  {
   "cell_type": "markdown",
   "metadata": {},
   "source": [
    "# Distributions of Key Characteristics/Metrics"
   ]
  },
  {
   "cell_type": "code",
   "execution_count": 4,
   "metadata": {},
   "outputs": [],
   "source": [
    "# Metrics\n",
    "# Speed mean/95th percentile = measure of overall transit performance\n",
    "# Speed var = measure of how much transit performance varies across conditions\n",
    "# Deviation mean = measure of how well transit delays are predicted by current practices (if low deviation, opportunity for sch padding)\n",
    "# Deviation var = measure of unpredictability (chaos, stochastic delay) of transit delay\n",
    "\n",
    "# Characteristics TODO\n",
    "# Difference between locationtimes = update frequency\n",
    "# Delay instances vs time of day to compare with survey"
   ]
  },
  {
   "cell_type": "code",
   "execution_count": 5,
   "metadata": {},
   "outputs": [],
   "source": [
    "# Seaborn settings\n",
    "sns.set_style('whitegrid')"
   ]
  },
  {
   "cell_type": "code",
   "execution_count": 6,
   "metadata": {},
   "outputs": [
    {
     "data": {
      "image/png": "[encoded data removed]",
      "text/plain": [
       "<Figure size 432x288 with 1 Axes>"
      ]
     },
     "metadata": {},
     "output_type": "display_data"
    },
    {
     "data": {
      "image/png": "[encoded data removed]",
      "text/plain": [
       "<Figure size 432x288 with 1 Axes>"
      ]
     },
     "metadata": {},
     "output_type": "display_data"
    }
   ],
   "source": [
    "# Regular distributions of speed and deviation\n",
    "speed_data = np.array(all_data['avg_speed_m_s']) * 2.237\n",
    "sns.histplot(speed_data, binrange=(0, 60), bins=25).set(xlabel='Speed (mph)', title='Oct-Dec 2020 Speed Distribution')\n",
    "plt.show()\n",
    "\n",
    "dev_data = np.array(all_data['deviation_change_s'])\n",
    "sns.histplot(dev_data, binrange=(-60,60), bins=30).set(xlabel='Deviation (s)', title='Oct-Dec 2020 Deviation Change Distribution')\n",
    "plt.show()"
   ]
  },
  {
   "cell_type": "markdown",
   "metadata": {},
   "source": [
    "# Superlatives"
   ]
  },
  {
   "cell_type": "code",
   "execution_count": 7,
   "metadata": {},
   "outputs": [],
   "source": [
    "# Stops which cause the highest average delay\n",
    "stop_data = all_data[all_data['at_stop'] == True]\n",
    "stop_ranks = stop_data.groupby(['prev_stopid']).mean()\n",
    "stop_ranks = stop_ranks.sort_values(['deviation_change_s'], ascending=False)\n",
    "stop_ranks.head()\n",
    "del stop_data"
   ]
  },
  {
   "cell_type": "code",
   "execution_count": 14,
   "metadata": {},
   "outputs": [
    {
     "data": {
      "text/html": [
       "<div>\n",
       "<style scoped>\n",
       "    .dataframe tbody tr th:only-of-type {\n",
       "        vertical-align: middle;\n",
       "    }\n",
       "\n",
       "    .dataframe tbody tr th {\n",
       "        vertical-align: top;\n",
       "    }\n",
       "\n",
       "    .dataframe thead th {\n",
       "        text-align: right;\n",
       "    }\n",
       "</style>\n",
       "<table border=\"1\" class=\"dataframe\">\n",
       "  <thead>\n",
       "    <tr style=\"text-align: right;\">\n",
       "      <th></th>\n",
       "      <th>avg_speed_m_s_x</th>\n",
       "      <th>avg_speed_m_s_y</th>\n",
       "      <th>performance</th>\n",
       "    </tr>\n",
       "    <tr>\n",
       "      <th>route_id</th>\n",
       "      <th></th>\n",
       "      <th></th>\n",
       "      <th></th>\n",
       "    </tr>\n",
       "  </thead>\n",
       "  <tbody>\n",
       "    <tr>\n",
       "      <th>100006</th>\n",
       "      <td>18.0</td>\n",
       "      <td>8.004228</td>\n",
       "      <td>0.444679</td>\n",
       "    </tr>\n",
       "    <tr>\n",
       "      <th>100204</th>\n",
       "      <td>17.0</td>\n",
       "      <td>7.512168</td>\n",
       "      <td>0.441892</td>\n",
       "    </tr>\n",
       "    <tr>\n",
       "      <th>100203</th>\n",
       "      <td>18.0</td>\n",
       "      <td>7.768762</td>\n",
       "      <td>0.431598</td>\n",
       "    </tr>\n",
       "    <tr>\n",
       "      <th>100214</th>\n",
       "      <td>19.0</td>\n",
       "      <td>8.155102</td>\n",
       "      <td>0.429216</td>\n",
       "    </tr>\n",
       "    <tr>\n",
       "      <th>100269</th>\n",
       "      <td>18.0</td>\n",
       "      <td>7.652476</td>\n",
       "      <td>0.425138</td>\n",
       "    </tr>\n",
       "  </tbody>\n",
       "</table>\n",
       "</div>"
      ],
      "text/plain": [
       "          avg_speed_m_s_x  avg_speed_m_s_y  performance\n",
       "route_id                                               \n",
       "100006               18.0         8.004228     0.444679\n",
       "100204               17.0         7.512168     0.441892\n",
       "100203               18.0         7.768762     0.431598\n",
       "100214               19.0         8.155102     0.429216\n",
       "100269               18.0         7.652476     0.425138"
      ]
     },
     "execution_count": 14,
     "metadata": {},
     "output_type": "execute_result"
    }
   ],
   "source": [
    "# Routes with lowest mean/95th percentile speed\n",
    "route_ranks_95 = all_data.groupby(['route_id']).quantile(.95)[['avg_speed_m_s']]\n",
    "route_ranks_avg = all_data.groupby(['route_id']).mean()[['avg_speed_m_s']]\n",
    "route_ranks = pd.merge(route_ranks_95, route_ranks_avg, on='route_id')\n",
    "route_ranks['performance'] = route_ranks['avg_speed_m_s_y'] / route_ranks['avg_speed_m_s_x']\n",
    "route_ranks = route_ranks.sort_values(['performance'], ascending=True)\n",
    "route_ranks.head()"
   ]
  },
  {
   "cell_type": "code",
   "execution_count": 16,
   "metadata": {},
   "outputs": [
    {
     "data": {
      "text/html": [
       "<div>\n",
       "<style scoped>\n",
       "    .dataframe tbody tr th:only-of-type {\n",
       "        vertical-align: middle;\n",
       "    }\n",
       "\n",
       "    .dataframe tbody tr th {\n",
       "        vertical-align: top;\n",
       "    }\n",
       "\n",
       "    .dataframe thead th {\n",
       "        text-align: right;\n",
       "    }\n",
       "</style>\n",
       "<table border=\"1\" class=\"dataframe\">\n",
       "  <thead>\n",
       "    <tr style=\"text-align: right;\">\n",
       "      <th></th>\n",
       "      <th>avg_speed_m_s</th>\n",
       "      <th>deviation_change_s</th>\n",
       "    </tr>\n",
       "    <tr>\n",
       "      <th>route_id</th>\n",
       "      <th></th>\n",
       "      <th></th>\n",
       "    </tr>\n",
       "  </thead>\n",
       "  <tbody>\n",
       "    <tr>\n",
       "      <th>100459</th>\n",
       "      <td>93.334133</td>\n",
       "      <td>5258.412590</td>\n",
       "    </tr>\n",
       "    <tr>\n",
       "      <th>100104</th>\n",
       "      <td>84.438717</td>\n",
       "      <td>4535.292205</td>\n",
       "    </tr>\n",
       "    <tr>\n",
       "      <th>100186</th>\n",
       "      <td>73.871850</td>\n",
       "      <td>5822.485803</td>\n",
       "    </tr>\n",
       "    <tr>\n",
       "      <th>100495</th>\n",
       "      <td>68.860093</td>\n",
       "      <td>2380.264182</td>\n",
       "    </tr>\n",
       "    <tr>\n",
       "      <th>102715</th>\n",
       "      <td>65.758327</td>\n",
       "      <td>2345.581501</td>\n",
       "    </tr>\n",
       "  </tbody>\n",
       "</table>\n",
       "</div>"
      ],
      "text/plain": [
       "          avg_speed_m_s  deviation_change_s\n",
       "route_id                                   \n",
       "100459        93.334133         5258.412590\n",
       "100104        84.438717         4535.292205\n",
       "100186        73.871850         5822.485803\n",
       "100495        68.860093         2380.264182\n",
       "102715        65.758327         2345.581501"
      ]
     },
     "execution_count": 16,
     "metadata": {},
     "output_type": "execute_result"
    }
   ],
   "source": [
    "# Most variable routes\n",
    "route_ranks = all_data.groupby(['route_id']).var()\n",
    "route_ranks = route_ranks.sort_values(['avg_speed_m_s'], ascending=False)[['avg_speed_m_s', 'deviation_change_s']]\n",
    "route_ranks.head()"
   ]
  },
  {
   "cell_type": "code",
   "execution_count": 10,
   "metadata": {},
   "outputs": [
    {
     "ename": "NameError",
     "evalue": "name 'to_upload' is not defined",
     "output_type": "error",
     "traceback": [
      "\u001b[0;31m---------------------------------------------------------------------------\u001b[0m",
      "\u001b[0;31mNameError\u001b[0m                                 Traceback (most recent call last)",
      "\u001b[0;32m<ipython-input-10-4f6f657cecf7>\u001b[0m in \u001b[0;36m<module>\u001b[0;34m\u001b[0m\n\u001b[1;32m      3\u001b[0m \u001b[0;34m\u001b[0m\u001b[0m\n\u001b[1;32m      4\u001b[0m \u001b[0;31m# Aggregate the observed bus speeds by their ids\u001b[0m\u001b[0;34m\u001b[0m\u001b[0;34m\u001b[0m\u001b[0;34m\u001b[0m\u001b[0m\n\u001b[0;32m----> 5\u001b[0;31m \u001b[0mto_upload\u001b[0m \u001b[0;34m=\u001b[0m \u001b[0mto_upload\u001b[0m\u001b[0;34m[\u001b[0m\u001b[0;34m[\u001b[0m\u001b[0;34m'vis_id'\u001b[0m\u001b[0;34m,\u001b[0m \u001b[0;34m'route_id'\u001b[0m\u001b[0;34m,\u001b[0m \u001b[0;34m'avg_speed_m_s'\u001b[0m\u001b[0;34m,\u001b[0m \u001b[0;34m'deviation_change_s'\u001b[0m\u001b[0;34m]\u001b[0m\u001b[0;34m]\u001b[0m\u001b[0;34m\u001b[0m\u001b[0;34m\u001b[0m\u001b[0m\n\u001b[0m\u001b[1;32m      6\u001b[0m \u001b[0mto_upload\u001b[0m \u001b[0;34m=\u001b[0m \u001b[0mto_upload\u001b[0m\u001b[0;34m.\u001b[0m\u001b[0mgroupby\u001b[0m\u001b[0;34m(\u001b[0m\u001b[0;34m[\u001b[0m\u001b[0;34m'vis_id'\u001b[0m\u001b[0;34m,\u001b[0m \u001b[0;34m'route_id'\u001b[0m\u001b[0;34m]\u001b[0m\u001b[0;34m)\u001b[0m\u001b[0;34m.\u001b[0m\u001b[0magg\u001b[0m\u001b[0;34m(\u001b[0m\u001b[0;34m[\u001b[0m\u001b[0;34m'mean'\u001b[0m\u001b[0;34m,\u001b[0m \u001b[0;34m'var'\u001b[0m\u001b[0;34m,\u001b[0m \u001b[0;34m'count'\u001b[0m\u001b[0;34m]\u001b[0m\u001b[0;34m)\u001b[0m\u001b[0;34m.\u001b[0m\u001b[0mreset_index\u001b[0m\u001b[0;34m(\u001b[0m\u001b[0;34m)\u001b[0m\u001b[0;34m\u001b[0m\u001b[0;34m\u001b[0m\u001b[0m\n\u001b[1;32m      7\u001b[0m \u001b[0;31m# Round all calculated means and variances\u001b[0m\u001b[0;34m\u001b[0m\u001b[0;34m\u001b[0m\u001b[0;34m\u001b[0m\u001b[0m\n",
      "\u001b[0;31mNameError\u001b[0m: name 'to_upload' is not defined"
     ]
    }
   ],
   "source": [
    "# Segments with lowest mean/95th percentile speed\n",
    "seg_ranks_95 = all_data.groupby(['compkey']).quantile(.95)[['avg_speed_m_s']]\n",
    "seg_ranks_avg = all_data.groupby(['compkey']).mean()[['avg_speed_m_s']]\n",
    "seg_ranks = pd.merge(seg_ranks_95, seg_ranks_avg, on='compkey')\n",
    "seg_ranks['performance'] = route_ranks['avg_speed_m_s_y'] / route_ranks['avg_speed_m_s_x']\n",
    "seg_ranks = seg_ranks.sort_values(['performance'], ascending=True)\n",
    "seg_ranks.head()"
   ]
  },
  {
   "cell_type": "code",
   "execution_count": null,
   "metadata": {},
   "outputs": [],
   "source": [
    "# Most variable segments\n",
    "seg_ranks = all_data.groupby(['compkey']).var()\n",
    "seg_ranks = seg_ranks.sort_values(['avg_speed_m_s'], ascending=False)[['avg_speed_m_s', 'deviation_change_s']]\n",
    "seg_ranks.head()"
   ]
  },
  {
   "cell_type": "markdown",
   "metadata": {},
   "source": [
    "# Generate Data for Segment Heatmap"
   ]
  },
  {
   "cell_type": "code",
   "execution_count": null,
   "metadata": {},
   "outputs": [],
   "source": [
    "# Generate segment compkey/speed/var for heatmap\n",
    "seg_ranks.to_csv(f\"{path}_segment_data_for_GIS.csv\")"
   ]
  }
 ],
 "metadata": {
  "kernelspec": {
   "display_name": "Python 3",
   "language": "python",
   "name": "python3"
  },
  "language_info": {
   "codemirror_mode": {
    "name": "ipython",
    "version": 3
   },
   "file_extension": ".py",
   "mimetype": "text/x-python",
   "name": "python",
   "nbconvert_exporter": "python",
   "pygments_lexer": "ipython3",
   "version": "3.8.3"
  }
 },
 "nbformat": 4,
 "nbformat_minor": 4
}
