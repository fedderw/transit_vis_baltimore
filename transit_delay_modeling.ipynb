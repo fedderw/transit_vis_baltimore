{
 "cells": [
  {
   "cell_type": "code",
   "execution_count": 1,
   "metadata": {},
   "outputs": [],
   "source": [
    "import json\n",
    "import os\n",
    "\n",
    "import numpy as np\n",
    "import pandas as pd\n",
    "import matplotlib.pyplot as plt\n",
    "import seaborn as sns\n",
    "import statsmodels.api as sm\n",
    "import statsmodels.formula.api as smf"
   ]
  },
  {
   "cell_type": "markdown",
   "metadata": {},
   "source": [
    "## Load Data"
   ]
  },
  {
   "cell_type": "code",
   "execution_count": 2,
   "metadata": {},
   "outputs": [],
   "source": [
    "# Set Seaborn theme\n",
    "sns.set_style('whitegrid')\n",
    "\n",
    "# Location for the local data\n",
    "path = './transit_vis/data/delay_modeling_datasets'\n",
    "\n",
    "# Read urban variable shapefiles\n",
    "street_data = pd.read_csv(f\"{path}/Seattle_Streets.csv\", low_memory=False)\n",
    "bike_data = pd.read_csv(f\"{path}/Existing_Bike_Facilities.csv\", low_memory=False)\n",
    "flow_data = pd.read_csv(f\"{path}/2018_Traffic_Flow_Counts.csv\", low_memory=False)\n",
    "blockface_data = pd.read_csv(f\"{path}/Blockface.csv\", low_memory=False)\n",
    "\n",
    "# Read data from summarize_rds\n",
    "bus_data_all = pd.read_csv(f\"{path}/../all_data.csv\", chunksize=1000000, low_memory=False)\n",
    "bus_data_df = pd.concat(bus_data_all)\n",
    "del bus_data_all\n",
    "\n",
    "# Filter datasets to variables of interest\n",
    "street_data = street_data[['COMPKEY','ARTDESCRIPT','SPEEDLIMIT','ONEWAY','SEGLENGTH','SURFACEWIDTH','STREETTYPE',\n",
    "                           'TRANDESCRIPT','SLOPE_PCT']].copy()\n",
    "bike_data = bike_data[['COMPKEY','EXISTING_FACILITY_TYPE']].copy()\n",
    "flow_data = flow_data[['COMPKEY','DOWNTOWN','AWDT']].copy()\n",
    "blockface_data = blockface_data[['SEGKEY','LOAD','ZONE']].copy().groupby('SEGKEY').sum().reset_index()\n",
    "\n",
    "# AWDT data has multiple compkeys per line comma separated\n",
    "flow_data = flow_data.dropna()\n",
    "ck = []\n",
    "downtown = []\n",
    "awdt = []\n",
    "for i in range(0,len(flow_data)):\n",
    "    keys = flow_data.iloc[i,0].split(',')\n",
    "    for key in keys:\n",
    "        ck.append(int(key))\n",
    "        downtown.append(flow_data.iloc[i,1])\n",
    "        awdt.append(flow_data.iloc[i,2])\n",
    "flow_data = pd.DataFrame([ck,downtown,awdt])\n",
    "flow_data = flow_data.transpose()\n",
    "flow_data.columns = ['COMPKEY','DOWNTOWN','AWDT']\n",
    "\n",
    "# AWDT also is recorded as strings\n",
    "flow_data['AWDT'] = pd.to_numeric(flow_data['AWDT'], errors='coerce')\n",
    "flow_data['COMPKEY'] = pd.to_numeric(flow_data['AWDT'], errors='coerce')\n",
    "flow_data['COMPKEY'] = flow_data['COMPKEY'].astype('int')\n",
    "flow_data['AWDT'] = flow_data['AWDT'].astype('int')"
   ]
  },
  {
   "cell_type": "code",
   "execution_count": 3,
   "metadata": {},
   "outputs": [],
   "source": [
    "# Bus data needs to be aggregated by compkey and median/95th pct calculated for each segment\n",
    "def percentile(n):\n",
    "    def percentile_(x):\n",
    "        return np.percentile(x, n)\n",
    "    percentile_.__name__ = 'pct_%s' % n\n",
    "    return percentile_\n",
    "\n",
    "bus_data = bus_data_df.groupby(['seg_compkey']).agg(['median', 'var', 'count', percentile(95)]).reset_index()\n",
    "bus_data = bus_data.loc[bus_data[('seg_route_id', 'count')] > 1]\n",
    "x = bus_data[('seg_compkey')].values\n",
    "y = bus_data[('avg_speed_m_s')][['median','pct_95']].iloc[:,0].values\n",
    "z = bus_data[('avg_speed_m_s')][['median','pct_95']].iloc[:,1].values\n",
    "bus_data = pd.DataFrame([x,y,z]).transpose()\n",
    "bus_data.columns = ['seg_compkey','median','pct_95']\n",
    "bus_data['performance'] = bus_data['median'] / bus_data['pct_95']"
   ]
  },
  {
   "cell_type": "code",
   "execution_count": 4,
   "metadata": {},
   "outputs": [],
   "source": [
    "# Merge all datasets on Compkey\n",
    "model_data = pd.merge(street_data, bike_data, how='left', on='COMPKEY')\n",
    "model_data = pd.merge(model_data, flow_data, how='left', on='COMPKEY')\n",
    "model_data = pd.merge(model_data, blockface_data, how='left', left_on='COMPKEY', right_on='SEGKEY')\n",
    "model_data = pd.merge(model_data, bus_data, how='left', sort=True, left_on='COMPKEY', right_on='seg_compkey')\n",
    "\n",
    "# Add case where there is no bike facility\n",
    "model_data.loc[pd.isna(model_data['EXISTING_FACILITY_TYPE']), 'EXISTING_FACILITY_TYPE'] = 'No_Facility'"
   ]
  },
  {
   "cell_type": "code",
   "execution_count": 5,
   "metadata": {},
   "outputs": [
    {
     "name": "stdout",
     "output_type": "stream",
     "text": [
      "27890\n",
      "795\n"
     ]
    }
   ],
   "source": [
    "# There are still many NA values where records are not found in flow, blockface datasets, but do exist in streets\n",
    "print(len(model_data))\n",
    "model_data = model_data.dropna()\n",
    "print(len(model_data))"
   ]
  },
  {
   "cell_type": "markdown",
   "metadata": {},
   "source": [
    "## Linear Regression"
   ]
  },
  {
   "cell_type": "code",
   "execution_count": 6,
   "metadata": {
    "scrolled": false
   },
   "outputs": [
    {
     "name": "stdout",
     "output_type": "stream",
     "text": [
      "                            OLS Regression Results                            \n",
      "==============================================================================\n",
      "Dep. Variable:            performance   R-squared:                       0.344\n",
      "Model:                            OLS   Adj. R-squared:                  0.322\n",
      "Method:                 Least Squares   F-statistic:                     15.50\n",
      "Date:                Wed, 17 Feb 2021   Prob (F-statistic):           3.45e-54\n",
      "Time:                        19:31:45   Log-Likelihood:                 552.19\n",
      "No. Observations:                 795   AIC:                            -1050.\n",
      "Df Residuals:                     768   BIC:                            -924.1\n",
      "Df Model:                          26                                         \n",
      "Covariance Type:            nonrobust                                         \n",
      "=========================================================================================================================\n",
      "                                                            coef    std err          t      P>|t|      [0.025      0.975]\n",
      "-------------------------------------------------------------------------------------------------------------------------\n",
      "Intercept                                                 0.4690      0.087      5.408      0.000       0.299       0.639\n",
      "ARTDESCRIPT[T.Minor Arterial]                            -0.0172      0.018     -0.943      0.346      -0.053       0.019\n",
      "ARTDESCRIPT[T.Not Designated]                            -0.0149      0.023     -0.644      0.520      -0.060       0.030\n",
      "ARTDESCRIPT[T.Principal Arterial]                        -0.0364      0.027     -1.367      0.172      -0.089       0.016\n",
      "ONEWAY[T.Y]                                              -0.0480      0.016     -3.047      0.002      -0.079      -0.017\n",
      "STREETTYPE[T.Downtown Neighborhood]                      -0.0040      0.035     -0.114      0.909      -0.073       0.065\n",
      "STREETTYPE[T.Industrial Access]                           0.1877      0.029      6.404      0.000       0.130       0.245\n",
      "STREETTYPE[T.Neighborhood Corridor]                       0.1446      0.029      5.013      0.000       0.088       0.201\n",
      "STREETTYPE[T.Neighborhood Yield Street]                  -0.0149      0.023     -0.644      0.520      -0.060       0.030\n",
      "STREETTYPE[T.Urban Center Connector]                      0.1242      0.021      6.050      0.000       0.084       0.165\n",
      "STREETTYPE[T.Urban Village Main]                          0.0551      0.019      2.827      0.005       0.017       0.093\n",
      "STREETTYPE[T.Urban Village Neighborhood]                  0.0523      0.030      1.750      0.080      -0.006       0.111\n",
      "TRANDESCRIPT[T.MINOR TRANSIT ROUTE]                       0.0074      0.012      0.611      0.541      -0.016       0.031\n",
      "TRANDESCRIPT[T.NOT DESIGNATED]                            0.0953      0.031      3.096      0.002       0.035       0.156\n",
      "TRANDESCRIPT[T.PRINCIPAL TRANSIT ROUTE]                  -0.0450      0.031     -1.441      0.150      -0.106       0.016\n",
      "TRANDESCRIPT[T.TEMPORARY TRANSIT ROUTE]                   0.1934      0.051      3.821      0.000       0.094       0.293\n",
      "EXISTING_FACILITY_TYPE[T.In Street, Minor Separation]     0.0358      0.031      1.141      0.254      -0.026       0.097\n",
      "EXISTING_FACILITY_TYPE[T.No_Facility]                     0.0430      0.030      1.426      0.154      -0.016       0.102\n",
      "EXISTING_FACILITY_TYPE[T.Sharrow]                         0.0554      0.031      1.784      0.075      -0.006       0.116\n",
      "DOWNTOWN[T.N]                                            -0.1615      0.047     -3.402      0.001      -0.255      -0.068\n",
      "DOWNTOWN[T.Y]                                            -0.1429      0.050     -2.874      0.004      -0.240      -0.045\n",
      "SPEEDLIMIT                                                0.0029      0.002      1.621      0.105      -0.001       0.006\n",
      "SEGLENGTH                                             -2.703e-05   1.76e-05     -1.536      0.125   -6.16e-05    7.51e-06\n",
      "SURFACEWIDTH                                             -0.0015      0.000     -3.414      0.001      -0.002      -0.001\n",
      "SLOPE_PCT                                                 0.0036      0.002      1.672      0.095      -0.001       0.008\n",
      "AWDT                                                  -2.633e-06   1.12e-06     -2.349      0.019   -4.83e-06   -4.33e-07\n",
      "LOAD                                                     -0.0180      0.009     -1.963      0.050      -0.036     1.3e-06\n",
      "ZONE                                                      0.0065      0.006      1.007      0.314      -0.006       0.019\n",
      "==============================================================================\n",
      "Omnibus:                      115.315   Durbin-Watson:                   0.366\n",
      "Prob(Omnibus):                  0.000   Jarque-Bera (JB):              763.641\n",
      "Skew:                           0.445   Prob(JB):                    1.50e-166\n",
      "Kurtosis:                       7.718   Cond. No.                     1.10e+16\n",
      "==============================================================================\n",
      "\n",
      "Notes:\n",
      "[1] Standard Errors assume that the covariance matrix of the errors is correctly specified.\n",
      "[2] The smallest eigenvalue is 7.58e-22. This might indicate that there are\n",
      "strong multicollinearity problems or that the design matrix is singular.\n"
     ]
    }
   ],
   "source": [
    "# All variables\n",
    "results = smf.ols('performance ~ \\\n",
    "                  ARTDESCRIPT + \\\n",
    "                  SPEEDLIMIT + \\\n",
    "                  ONEWAY + \\\n",
    "                  SEGLENGTH + \\\n",
    "                  SURFACEWIDTH + \\\n",
    "                  STREETTYPE + \\\n",
    "                  TRANDESCRIPT + \\\n",
    "                  SLOPE_PCT + \\\n",
    "                  EXISTING_FACILITY_TYPE + \\\n",
    "                  DOWNTOWN + \\\n",
    "                  AWDT + \\\n",
    "                  LOAD + \\\n",
    "                  ZONE', data=model_data).fit()\n",
    "print(results.summary())"
   ]
  },
  {
   "cell_type": "code",
   "execution_count": null,
   "metadata": {},
   "outputs": [],
   "source": []
  },
  {
   "cell_type": "code",
   "execution_count": null,
   "metadata": {},
   "outputs": [],
   "source": []
  },
  {
   "cell_type": "code",
   "execution_count": null,
   "metadata": {},
   "outputs": [],
   "source": []
  },
  {
   "cell_type": "code",
   "execution_count": null,
   "metadata": {},
   "outputs": [],
   "source": []
  }
 ],
 "metadata": {
  "kernelspec": {
   "display_name": "Python 3",
   "language": "python",
   "name": "python3"
  },
  "language_info": {
   "codemirror_mode": {
    "name": "ipython",
    "version": 3
   },
   "file_extension": ".py",
   "mimetype": "text/x-python",
   "name": "python",
   "nbconvert_exporter": "python",
   "pygments_lexer": "ipython3",
   "version": "3.8.3"
  }
 },
 "nbformat": 4,
 "nbformat_minor": 4
}
