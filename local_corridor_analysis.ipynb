{
 "cells": [
  {
   "cell_type": "markdown",
   "metadata": {},
   "source": [
    "# Visualization/Analysis of Local GTFS-RT"
   ]
  },
  {
   "cell_type": "code",
   "execution_count": 1,
   "metadata": {},
   "outputs": [],
   "source": [
    "import json\n",
    "import os\n",
    "\n",
    "from datetime import datetime, timezone\n",
    "\n",
    "import branca.colormap as cm\n",
    "import folium\n",
    "from folium.plugins import HeatMap\n",
    "from folium.plugins import HeatMapWithTime\n",
    "import matplotlib.pyplot as plt\n",
    "import numpy as np\n",
    "import pandas as pd\n",
    "import pytz\n",
    "import seaborn as sns\n",
    "\n",
    "TZ = pytz.timezone('America/Los_Angeles')"
   ]
  },
  {
   "cell_type": "code",
   "execution_count": 2,
   "metadata": {},
   "outputs": [],
   "source": [
    "corridor_segments = {\n",
    "    0: {\n",
    "        2749,\n",
    "        2751,\n",
    "        2752,\n",
    "        2753,\n",
    "        2754,\n",
    "        2755,\n",
    "        2756,\n",
    "        2757\n",
    "    },\n",
    "    1: {\n",
    "        12200,\n",
    "        12201,\n",
    "        12202,\n",
    "        12203,\n",
    "        12204\n",
    "    },\n",
    "    2: {\n",
    "        13532,\n",
    "        13533,\n",
    "        13534,\n",
    "        13535,\n",
    "        13536\n",
    "    },\n",
    "    3: {\n",
    "        14585,\n",
    "        14586,\n",
    "        14587,\n",
    "        14589,\n",
    "        14590,\n",
    "        14591,\n",
    "        14243\n",
    "    },\n",
    "    4: {\n",
    "        8510,\n",
    "        8511,\n",
    "        8512,\n",
    "        8513,\n",
    "        8514\n",
    "    },\n",
    "    5: {\n",
    "        13221,\n",
    "        13220,\n",
    "        13219,\n",
    "        13218,\n",
    "        13217\n",
    "    },\n",
    "    6: {\n",
    "        18045,\n",
    "        18046,\n",
    "        18047,\n",
    "        18048,\n",
    "        18049\n",
    "    },\n",
    "    7: {\n",
    "        19235,\n",
    "        19234,\n",
    "        11333,\n",
    "        11331,\n",
    "        11330,\n",
    "        11329,\n",
    "        19212\n",
    "    },\n",
    "    8: {\n",
    "        12369,\n",
    "        12366,\n",
    "        12365,\n",
    "        12364,\n",
    "        12363\n",
    "    }\n",
    "}"
   ]
  },
  {
   "cell_type": "markdown",
   "metadata": {},
   "source": [
    "### Process the Local Summarize_RDS Data"
   ]
  },
  {
   "cell_type": "code",
   "execution_count": 3,
   "metadata": {},
   "outputs": [],
   "source": [
    "# Location for the local data\n",
    "path = './transit_vis/data/to_upload'\n",
    "files = os.listdir(path)\n",
    "\n",
    "# Join all the data which is saved in different csv for each day\n",
    "# frames = [pd.read_csv(f\"{path}/{filename}\", dtype={'trip_short_name': str, 'route_short_name': str}) for filename in files[0:30]]\n",
    "# all_data = pd.concat(frames)\n",
    "# all_data.to_csv(f\"{path}/../all_data.csv\")\n",
    "# all_data.head()\n",
    "\n",
    "# If already processed, load the data here and comment out above\n",
    "all_data = pd.read_csv(f\"{path}/../all_data.csv\", dtype={'trip_short_name': str, 'route_short_name': str})\n",
    "all_data.head()\n",
    "\n",
    "# Rename and style\n",
    "all_data['speed_m_s'] = all_data['avg_speed_m_s']\n",
    "#all_data = all_data[all_data['at_stop'] == True]\n",
    "sns.set_style('whitegrid')"
   ]
  },
  {
   "cell_type": "markdown",
   "metadata": {},
   "source": [
    "### Find Top 10/Top Random Coaches that Spend Most Time in Corridors"
   ]
  },
  {
   "cell_type": "code",
   "execution_count": 20,
   "metadata": {},
   "outputs": [
    {
     "ename": "NameError",
     "evalue": "name 'all_data' is not defined",
     "output_type": "error",
     "traceback": [
      "\u001b[0;31m---------------------------------------------------------------------------\u001b[0m",
      "\u001b[0;31mNameError\u001b[0m                                 Traceback (most recent call last)",
      "\u001b[0;32m<ipython-input-20-8ea24e58b772>\u001b[0m in \u001b[0;36m<module>\u001b[0;34m\u001b[0m\n\u001b[1;32m      2\u001b[0m \u001b[0mstart_time\u001b[0m \u001b[0;34m=\u001b[0m \u001b[0;36m1607072400\u001b[0m \u001b[0;31m# 12/4/20 1AM\u001b[0m\u001b[0;34m\u001b[0m\u001b[0;34m\u001b[0m\u001b[0m\n\u001b[1;32m      3\u001b[0m \u001b[0mend_time\u001b[0m \u001b[0;34m=\u001b[0m \u001b[0;36m1608282000\u001b[0m \u001b[0;31m# 12/18/20 1AM\u001b[0m\u001b[0;34m\u001b[0m\u001b[0;34m\u001b[0m\u001b[0m\n\u001b[0;32m----> 4\u001b[0;31m \u001b[0mall_data\u001b[0m \u001b[0;34m=\u001b[0m \u001b[0mall_data\u001b[0m\u001b[0;34m.\u001b[0m\u001b[0mloc\u001b[0m\u001b[0;34m[\u001b[0m\u001b[0;34m(\u001b[0m\u001b[0mall_data\u001b[0m\u001b[0;34m[\u001b[0m\u001b[0;34m'locationtime'\u001b[0m\u001b[0;34m]\u001b[0m \u001b[0;34m>\u001b[0m \u001b[0mstart_time\u001b[0m\u001b[0;34m)\u001b[0m \u001b[0;34m&\u001b[0m \u001b[0;34m(\u001b[0m\u001b[0mall_data\u001b[0m\u001b[0;34m[\u001b[0m\u001b[0;34m'locationtime'\u001b[0m\u001b[0;34m]\u001b[0m \u001b[0;34m<\u001b[0m \u001b[0mend_time\u001b[0m\u001b[0;34m)\u001b[0m\u001b[0;34m]\u001b[0m\u001b[0;34m\u001b[0m\u001b[0;34m\u001b[0m\u001b[0m\n\u001b[0m\u001b[1;32m      5\u001b[0m \u001b[0;34m\u001b[0m\u001b[0m\n\u001b[1;32m      6\u001b[0m \u001b[0;31m# Get list of all segments in our corridors\u001b[0m\u001b[0;34m\u001b[0m\u001b[0;34m\u001b[0m\u001b[0;34m\u001b[0m\u001b[0m\n",
      "\u001b[0;31mNameError\u001b[0m: name 'all_data' is not defined"
     ]
    }
   ],
   "source": [
    "# Filter to 2-week period of interest\n",
    "start_time = 1607072400 # 12/4/20 1AM\n",
    "end_time = 1608282000 # 12/18/20 1AM\n",
    "all_data = all_data.loc[(all_data['locationtime'] > start_time) & (all_data['locationtime'] < end_time)]\n",
    "\n",
    "# Get list of all segments in our corridors\n",
    "segments_dict = list(corridor_segments.values())\n",
    "all_corridor_segments = []\n",
    "for item in segments_dict:\n",
    "    for seg in item:\n",
    "        all_corridor_segments.append(seg)\n",
    "\n",
    "# Filter to only tracked locations in our corridors\n",
    "data = all_data.loc[all_data['seg_compkey'].isin(all_corridor_segments)]\n",
    "del all_data"
   ]
  },
  {
   "cell_type": "code",
   "execution_count": 38,
   "metadata": {},
   "outputs": [
    {
     "name": "stdout",
     "output_type": "stream",
     "text": [
      "Number of tracks for best 10 routes: 2440\n",
      "Number of tracks for best random route: 195\n"
     ]
    }
   ],
   "source": [
    "# Get the top ten vehicles with most tracked locations\n",
    "vehicle_counts = data.groupby('vehicleid').count().reset_index()[['vehicleid', 'lat']]\n",
    "vehicle_list = vehicle_counts.sort_values('lat', ascending=False)\n",
    "vehicle_list = vehicle_list.iloc[:10,:]\n",
    "vehicle_list = vehicle_list['vehicleid'].values\n",
    "corridor_data_10 = data[data['vehicleid'].isin(vehicle_list)]\n",
    "print(f\"Number of tracks for best 10 routes: {len(corridor_data_10)}\")\n",
    "\n",
    "# Get the data corresponding to ten random vehicles\n",
    "vehicle_list = vehicle_counts.sample(10)\n",
    "vehicle_list = vehicle_list.sort_values('lat', ascending=False)\n",
    "vehicle_list = vehicle_list.iloc[0:1,:]\n",
    "vehicle_list = vehicle_list['vehicleid'].values\n",
    "corridor_data_rand = data[data['vehicleid'].isin(vehicle_list)]\n",
    "print(f\"Number of tracks for best random route: {len(corridor_data_rand)}\")"
   ]
  },
  {
   "cell_type": "markdown",
   "metadata": {},
   "source": [
    "### Generate Densities by Random Sampling"
   ]
  },
  {
   "cell_type": "code",
   "execution_count": 39,
   "metadata": {},
   "outputs": [],
   "source": [
    "# 1000 iterations for random 10 vehicle ids from past two weeks\n",
    "best_route_name = []\n",
    "best_route_count = []\n",
    "for i in range(0, 1000):\n",
    "    sample = vehicle_counts.sample(10)\n",
    "    sample = sample.sort_values('lat', ascending=False)\n",
    "    sample = sample.iloc[0:1,:]\n",
    "    best_route_name.append(sample['vehicleid'].values[0])\n",
    "    best_route_count.append(sample['lat'].values[0])\n",
    "\n",
    "# The top 20 vehicles\n",
    "top_route_name = []\n",
    "top_route_count = []\n",
    "sample = vehicle_counts.sort_values('lat', ascending=False)\n",
    "sample = sample.iloc[:10,:]\n",
    "top_route_name.append(sample['vehicleid'].values)\n",
    "top_route_count.append(sample['lat'].values)\n",
    "top_route_count = list(top_route_count[0])\n",
    "\n",
    "# All vehicles\n",
    "all_route_count = list(vehicle_counts['lat'].values)"
   ]
  },
  {
   "cell_type": "code",
   "execution_count": 40,
   "metadata": {},
   "outputs": [
    {
     "data": {
      "text/plain": [
       "<matplotlib.legend.Legend at 0x7fb959275c70>"
      ]
     },
     "execution_count": 40,
     "metadata": {},
     "output_type": "execute_result"
    },
    {
     "data": {
      "image/png": "[encoded data removed]",
      "text/plain": [
       "<Figure size 720x432 with 1 Axes>"
      ]
     },
     "metadata": {},
     "output_type": "display_data"
    }
   ],
   "source": [
    "# Distribution of number of tracks across network\n",
    "fig = plt.figure(figsize=(10,6))\n",
    "sns.kdeplot(best_route_count, bw_adjust=1)\n",
    "sns.kdeplot(top_route_count, bw_adjust=1)\n",
    "sns.kdeplot(all_route_count, bw_adjust=1)\n",
    "fig.legend(labels=['Top Sampled Count','Top Un-Sampled Count','All Counts'])"
   ]
  },
  {
   "cell_type": "markdown",
   "metadata": {},
   "source": [
    "### Generate Spatial Heatmaps"
   ]
  },
  {
   "cell_type": "code",
   "execution_count": 41,
   "metadata": {},
   "outputs": [
    {
     "data": {
      "text/plain": [
       "array(['48', '8', '45'], dtype=object)"
      ]
     },
     "execution_count": 41,
     "metadata": {},
     "output_type": "execute_result"
    }
   ],
   "source": [
    "pd.unique(corridor_data_rand['route_short_name'])"
   ]
  },
  {
   "cell_type": "code",
   "execution_count": 42,
   "metadata": {},
   "outputs": [
    {
     "data": {
      "text/html": [
       "<div style=\"width:100%;\"><div style=\"position:relative;width:100%;height:0;padding-bottom:60%;\"><span style=\"color:#565656\">Make this Notebook Trusted to load map: File -> Trust Notebook</span><iframe src=\"about:blank\" style=\"position:absolute;width:100%;height:100%;left:0;top:0;border:none !important;\" data-html=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 onload=\"this.contentDocument.open();this.contentDocument.write(atob(this.getAttribute('data-html')));this.contentDocument.close();\" allowfullscreen webkitallowfullscreen mozallowfullscreen></iframe></div></div>"
      ],
      "text/plain": [
       "<folium.folium.Map at 0x7fb9591761f0>"
      ]
     },
     "execution_count": 42,
     "metadata": {},
     "output_type": "execute_result"
    }
   ],
   "source": [
    "# Initialize the map\n",
    "f_map = folium.Map(\n",
    "    location=[47.606209, -122.332069],\n",
    "    zoom_start=11,\n",
    "    prefer_canvas=True)\n",
    "\n",
    "# Create and add layer for all the sampled coordinate data\n",
    "# lats = sampled['lat'].tolist()\n",
    "# lons = sampled['lon'].tolist()\n",
    "# points = zip(lats, lons)\n",
    "# points = list(points)\n",
    "# HeatMap(\n",
    "#     data=points,\n",
    "#     name='Points',\n",
    "#     radius=8,\n",
    "#     min_opacity=0.2\n",
    "# ).add_to(f_map)\n",
    "\n",
    "# Create and add layer for all the sampled coordinate data in our corridors\n",
    "lats = corridor_data_rand['lat'].tolist()\n",
    "lons = corridor_data_rand['lon'].tolist()\n",
    "points = zip(lats, lons)\n",
    "points = list(points)\n",
    "HeatMap(\n",
    "    data=points,\n",
    "    name='Points',\n",
    "    radius=8,\n",
    "    min_opacity=0.2\n",
    ").add_to(f_map)\n",
    "\n",
    "folium.LayerControl().add_to(f_map)\n",
    "\n",
    "# Save map and plot in notebook\n",
    "f_map.save(f\"./local_sampled_map.html\")\n",
    "f_map"
   ]
  }
 ],
 "metadata": {
  "kernelspec": {
   "display_name": "Python 3",
   "language": "python",
   "name": "python3"
  },
  "language_info": {
   "codemirror_mode": {
    "name": "ipython",
    "version": 3
   },
   "file_extension": ".py",
   "mimetype": "text/x-python",
   "name": "python",
   "nbconvert_exporter": "python",
   "pygments_lexer": "ipython3",
   "version": "3.8.3"
  }
 },
 "nbformat": 4,
 "nbformat_minor": 4
}
