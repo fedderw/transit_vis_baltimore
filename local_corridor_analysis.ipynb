{
 "cells": [
  {
   "cell_type": "markdown",
   "metadata": {},
   "source": [
    "# Visualization/Analysis of Local GTFS-RT"
   ]
  },
  {
   "cell_type": "code",
   "execution_count": 1,
   "metadata": {},
   "outputs": [],
   "source": [
    "import json\n",
    "import os\n",
    "\n",
    "from datetime import datetime, timezone\n",
    "\n",
    "import branca.colormap as cm\n",
    "import folium\n",
    "from folium.plugins import HeatMap\n",
    "from folium.plugins import HeatMapWithTime\n",
    "import matplotlib.pyplot as plt\n",
    "import numpy as np\n",
    "import pandas as pd\n",
    "import pytz\n",
    "import seaborn as sns\n",
    "\n",
    "TZ = pytz.timezone('America/Los_Angeles')"
   ]
  },
  {
   "cell_type": "code",
   "execution_count": 2,
   "metadata": {},
   "outputs": [],
   "source": [
    "corridor_segments = {\n",
    "    0: {\n",
    "        2749,\n",
    "        2751,\n",
    "        2752,\n",
    "        2753,\n",
    "        2754,\n",
    "        2755,\n",
    "        2756,\n",
    "        2757\n",
    "    },\n",
    "    1: {\n",
    "        12200,\n",
    "        12201,\n",
    "        12202,\n",
    "        12203,\n",
    "        12204\n",
    "    },\n",
    "    2: {\n",
    "        13532,\n",
    "        13533,\n",
    "        13534,\n",
    "        13535,\n",
    "        13536\n",
    "    },\n",
    "    3: {\n",
    "        14585,\n",
    "        14586,\n",
    "        14587,\n",
    "        14589,\n",
    "        14590,\n",
    "        14591,\n",
    "        14243\n",
    "    },\n",
    "    4: {\n",
    "        8510,\n",
    "        8511,\n",
    "        8512,\n",
    "        8513,\n",
    "        8514\n",
    "    },\n",
    "    5: {\n",
    "        13221,\n",
    "        13220,\n",
    "        13219,\n",
    "        13218,\n",
    "        13217\n",
    "    },\n",
    "    6: {\n",
    "        18045,\n",
    "        18046,\n",
    "        18047,\n",
    "        18048,\n",
    "        18049\n",
    "    },\n",
    "    7: {\n",
    "        19235,\n",
    "        19234,\n",
    "        11333,\n",
    "        11331,\n",
    "        11330,\n",
    "        11329,\n",
    "        19212\n",
    "    },\n",
    "    8: {\n",
    "        12369,\n",
    "        12366,\n",
    "        12365,\n",
    "        12364,\n",
    "        12363\n",
    "    }\n",
    "}"
   ]
  },
  {
   "cell_type": "markdown",
   "metadata": {},
   "source": [
    "### Process the Local Summarize_RDS Data"
   ]
  },
  {
   "cell_type": "code",
   "execution_count": 3,
   "metadata": {},
   "outputs": [],
   "source": [
    "# Location for the local data\n",
    "path = './transit_vis/data/to_upload'\n",
    "files = os.listdir(path)\n",
    "\n",
    "# Join all the data which is saved in different csv for each day\n",
    "# frames = [pd.read_csv(f\"{path}/{filename}\", dtype={'trip_short_name': str, 'route_short_name': str}) for filename in files[0:30]]\n",
    "# all_data = pd.concat(frames)\n",
    "# all_data.to_csv(f\"{path}/../all_data.csv\")\n",
    "# all_data.head()\n",
    "\n",
    "# If already processed, load the data here and comment out above\n",
    "all_data = pd.read_csv(f\"{path}/../all_data.csv\", dtype={'trip_short_name': str, 'route_short_name': str})\n",
    "all_data.head()\n",
    "\n",
    "# Rename and style\n",
    "all_data['speed_m_s'] = all_data['avg_speed_m_s']\n",
    "#all_data = all_data[all_data['at_stop'] == True]\n",
    "\n",
    "sns.set_style('whitegrid')"
   ]
  },
  {
   "cell_type": "markdown",
   "metadata": {},
   "source": [
    "### Find Top 10/Top Random Coaches that Spend Most Time in Corridors"
   ]
  },
  {
   "cell_type": "code",
   "execution_count": 4,
   "metadata": {},
   "outputs": [],
   "source": [
    "# Filter to period of interest\n",
    "# start_time = 1607072400 # 12/4/20 1AM\n",
    "# end_time = 1608282000 # 12/18/20 1AM\n",
    "start_time = 1607526000 # 12/9/20 7AM\n",
    "end_time = 1607562000 # 12/9/20 5PM\n",
    "all_data = all_data.loc[(all_data['locationtime'] > start_time) & (all_data['locationtime'] < end_time)]\n",
    "\n",
    "# Get list of all segments in our corridors\n",
    "segments_dict = list(corridor_segments.values())\n",
    "all_corridor_segments = []\n",
    "for item in segments_dict:\n",
    "    for seg in item:\n",
    "        all_corridor_segments.append(seg)\n",
    "\n",
    "# Filter to only tracked locations in our corridors\n",
    "data = all_data.loc[all_data['seg_compkey'].isin(all_corridor_segments)]\n",
    "del all_data"
   ]
  },
  {
   "cell_type": "code",
   "execution_count": 5,
   "metadata": {},
   "outputs": [
    {
     "name": "stdout",
     "output_type": "stream",
     "text": [
      "39.25\n",
      "66.2\n",
      "58.8\n",
      "12.428571428571429\n",
      "44.6\n",
      "63.6\n",
      "113.4\n",
      "18.428571428571427\n",
      "102.8\n"
     ]
    }
   ],
   "source": [
    "# Get the average number of traversals per corridor\n",
    "# Want count of unique trip ids for each segment id\n",
    "traversal_data = data.groupby(['seg_compkey']).nunique('tripid').reset_index()\n",
    "for corridor in corridor_segments:\n",
    "    corridor_data = traversal_data.loc[traversal_data['seg_compkey'].isin(list(corridor_segments[corridor]))]\n",
    "    print(corridor_data['lat'].mean())"
   ]
  },
  {
   "cell_type": "code",
   "execution_count": 6,
   "metadata": {},
   "outputs": [
    {
     "name": "stdout",
     "output_type": "stream",
     "text": [
      "Number of tracks for best 10 routes: 1109\n",
      "Number of tracks for best random route: 51\n"
     ]
    }
   ],
   "source": [
    "# Get the top ten vehicles with most tracked locations\n",
    "vehicle_counts = data.groupby('vehicleid').count().reset_index()[['vehicleid', 'lat']]\n",
    "vehicle_list = vehicle_counts.sort_values('lat', ascending=False)\n",
    "vehicle_list = vehicle_list.iloc[:10,:]\n",
    "vehicle_list = vehicle_list['vehicleid'].values\n",
    "corridor_data_10 = data[data['vehicleid'].isin(vehicle_list)]\n",
    "print(f\"Number of tracks for best 10 routes: {len(corridor_data_10)}\")\n",
    "\n",
    "# Get the data corresponding to ten random vehicles\n",
    "vehicle_list = vehicle_counts.sample(10)\n",
    "vehicle_list = vehicle_list.sort_values('lat', ascending=False)\n",
    "vehicle_list = vehicle_list.iloc[0:1,:]\n",
    "vehicle_list = vehicle_list['vehicleid'].values\n",
    "corridor_data_rand = data[data['vehicleid'].isin(vehicle_list)]\n",
    "print(f\"Number of tracks for best random route: {len(corridor_data_rand)}\")"
   ]
  },
  {
   "cell_type": "markdown",
   "metadata": {},
   "source": [
    "### Generate Densities by Random Sampling"
   ]
  },
  {
   "cell_type": "code",
   "execution_count": 7,
   "metadata": {},
   "outputs": [],
   "source": [
    "# 1000 iterations for random 10 vehicle ids from past two weeks\n",
    "best_route_name = []\n",
    "best_route_count = []\n",
    "for i in range(0, 1000):\n",
    "    sample = vehicle_counts.sample(10)\n",
    "    sample = sample.sort_values('lat', ascending=False)\n",
    "    sample = sample.iloc[0:1,:]\n",
    "    best_route_name.append(sample['vehicleid'].values[0])\n",
    "    best_route_count.append(sample['lat'].values[0])\n",
    "\n",
    "# The top 20 vehicles\n",
    "top_route_name = []\n",
    "top_route_count = []\n",
    "sample = vehicle_counts.sort_values('lat', ascending=False)\n",
    "sample = sample.iloc[:10,:]\n",
    "top_route_name.append(sample['vehicleid'].values)\n",
    "top_route_count.append(sample['lat'].values)\n",
    "top_route_count = list(top_route_count[0])\n",
    "\n",
    "# All vehicles\n",
    "all_route_count = list(vehicle_counts['lat'].values)"
   ]
  },
  {
   "cell_type": "code",
   "execution_count": 8,
   "metadata": {},
   "outputs": [
    {
     "data": {
      "text/plain": [
       "<matplotlib.legend.Legend at 0x7f41fb3f0310>"
      ]
     },
     "execution_count": 8,
     "metadata": {},
     "output_type": "execute_result"
    },
    {
     "data": {
      "image/png": "[encoded data removed]",
      "text/plain": [
       "<Figure size 720x432 with 1 Axes>"
      ]
     },
     "metadata": {},
     "output_type": "display_data"
    }
   ],
   "source": [
    "# Distribution of number of tracks across network\n",
    "fig = plt.figure(figsize=(10,6))\n",
    "sns.kdeplot(best_route_count, bw_adjust=1)\n",
    "sns.kdeplot(top_route_count, bw_adjust=1)\n",
    "sns.kdeplot(all_route_count, bw_adjust=1)\n",
    "fig.legend(labels=['Top Sampled Count','Top Un-Sampled Count','All Counts'])"
   ]
  },
  {
   "cell_type": "markdown",
   "metadata": {},
   "source": [
    "### Generate Spatial Heatmaps"
   ]
  },
  {
   "cell_type": "code",
   "execution_count": 9,
   "metadata": {},
   "outputs": [
    {
     "data": {
      "text/plain": [
       "array(['44', '43'], dtype=object)"
      ]
     },
     "execution_count": 9,
     "metadata": {},
     "output_type": "execute_result"
    }
   ],
   "source": [
    "pd.unique(corridor_data_rand['route_short_name'])"
   ]
  },
  {
   "cell_type": "code",
   "execution_count": 10,
   "metadata": {},
   "outputs": [
    {
     "data": {
      "text/html": [
       "<div style=\"width:100%;\"><div style=\"position:relative;width:100%;height:0;padding-bottom:60%;\"><span style=\"color:#565656\">Make this Notebook Trusted to load map: File -> Trust Notebook</span><iframe src=\"about:blank\" style=\"position:absolute;width:100%;height:100%;left:0;top:0;border:none !important;\" data-html=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 onload=\"this.contentDocument.open();this.contentDocument.write(atob(this.getAttribute('data-html')));this.contentDocument.close();\" allowfullscreen webkitallowfullscreen mozallowfullscreen></iframe></div></div>"
      ],
      "text/plain": [
       "<folium.folium.Map at 0x7f41fb3ada90>"
      ]
     },
     "execution_count": 10,
     "metadata": {},
     "output_type": "execute_result"
    }
   ],
   "source": [
    "# Initialize the map\n",
    "f_map = folium.Map(\n",
    "    location=[47.606209, -122.332069],\n",
    "    zoom_start=11,\n",
    "    prefer_canvas=True)\n",
    "\n",
    "# Create and add layer for all the sampled coordinate data\n",
    "# lats = sampled['lat'].tolist()\n",
    "# lons = sampled['lon'].tolist()\n",
    "# points = zip(lats, lons)\n",
    "# points = list(points)\n",
    "# HeatMap(\n",
    "#     data=points,\n",
    "#     name='Points',\n",
    "#     radius=8,\n",
    "#     min_opacity=0.2\n",
    "# ).add_to(f_map)\n",
    "\n",
    "# Create and add layer for all the sampled coordinate data in our corridors\n",
    "lats = corridor_data_rand['lat'].tolist()\n",
    "lons = corridor_data_rand['lon'].tolist()\n",
    "points = zip(lats, lons)\n",
    "points = list(points)\n",
    "HeatMap(\n",
    "    data=points,\n",
    "    name='Points',\n",
    "    radius=8,\n",
    "    min_opacity=0.2\n",
    ").add_to(f_map)\n",
    "\n",
    "folium.LayerControl().add_to(f_map)\n",
    "\n",
    "# Save map and plot in notebook\n",
    "f_map.save(f\"./local_sampled_map.html\")\n",
    "f_map"
   ]
  }
 ],
 "metadata": {
  "kernelspec": {
   "display_name": "Python 3",
   "language": "python",
   "name": "python3"
  },
  "language_info": {
   "codemirror_mode": {
    "name": "ipython",
    "version": 3
   },
   "file_extension": ".py",
   "mimetype": "text/x-python",
   "name": "python",
   "nbconvert_exporter": "python",
   "pygments_lexer": "ipython3",
   "version": "3.8.3"
  }
 },
 "nbformat": 4,
 "nbformat_minor": 4
}
